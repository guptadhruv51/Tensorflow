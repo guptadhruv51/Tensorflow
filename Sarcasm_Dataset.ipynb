{
 "cells": [
  {
   "cell_type": "code",
   "execution_count": 14,
   "metadata": {},
   "outputs": [],
   "source": [
    "import json\n",
    "import tensorflow as tf\n",
    "from tensorflow.keras.preprocessing.text import Tokenizer\n",
    "from tensorflow.keras.preprocessing.sequence import pad_sequences\n",
    "import numpy as np\n",
    "import matplotlib.pyplot as plt\n"
   ]
  },
  {
   "cell_type": "code",
   "execution_count": 3,
   "metadata": {},
   "outputs": [
    {
     "name": "stdout",
     "output_type": "stream",
     "text": [
      "26709\n",
      "26709\n",
      "26709\n"
     ]
    }
   ],
   "source": [
    "data = [json.loads(line) for line in open('Sarcasm_Headlines_Dataset.json', 'r')]\n",
    "news_sentences=[]\n",
    "labels=[]\n",
    "urls=[]\n",
    "for i in range(len(data)):\n",
    "    labels.append(data[i]['is_sarcastic'])\n",
    "    news_sentences.append(data[i]['headline'])\n",
    "    urls.append(data[i]['article_link'])\n",
    "print(len(labels))\n",
    "print(len(news_sentences))\n",
    "print(len(urls))    \n"
   ]
  },
  {
   "cell_type": "code",
   "execution_count": 4,
   "metadata": {},
   "outputs": [],
   "source": [
    "vocab_size=10000\n",
    "oov_token='OOV'\n",
    "trunc_type='post'\n",
    "padd_type='post'\n",
    "training_size=20000\n",
    "max_length=32\n",
    "embeddings_dim=16\n",
    "Tokenizer=Tokenizer(num_words=vocab_size,oov_token=oov_token)"
   ]
  },
  {
   "cell_type": "code",
   "execution_count": 5,
   "metadata": {},
   "outputs": [],
   "source": [
    "train_labels=labels[0:training_size]\n",
    "test_labels=labels[training_size:]\n",
    "train_sentences=news_sentences[0:training_size]\n",
    "test_sentences=news_sentences[training_size:]"
   ]
  },
  {
   "cell_type": "code",
   "execution_count": 11,
   "metadata": {},
   "outputs": [],
   "source": [
    "Tokenizer.fit_on_texts(train_sentences)\n",
    "word_index=Tokenizer.word_index\n",
    "train_sequences=Tokenizer.texts_to_sequences(train_sentences)\n",
    "train_padded=pad_sequences(train_sequences,maxlen=max_length,truncating=trunc_type,padding=padd_type)\n",
    "test_sequences=Tokenizer.texts_to_sequences(test_sentences)\n",
    "test_padded=pad_sequences(test_sequences,maxlen=max_length,truncating=trunc_type,padding=padd_type)"
   ]
  },
  {
   "cell_type": "code",
   "execution_count": 13,
   "metadata": {},
   "outputs": [
    {
     "name": "stdout",
     "output_type": "stream",
     "text": [
      "20000 20000\n",
      "6709 6709\n"
     ]
    }
   ],
   "source": [
    "print(len(train_padded),len(train_labels))\n",
    "print(len(test_padded),len(test_labels))"
   ]
  },
  {
   "cell_type": "code",
   "execution_count": 15,
   "metadata": {},
   "outputs": [],
   "source": [
    "train_labels=np.asarray(train_labels)\n",
    "test_labels=np.asarray(test_labels)"
   ]
  },
  {
   "cell_type": "code",
   "execution_count": 16,
   "metadata": {},
   "outputs": [],
   "source": [
    "model=tf.keras.Sequential([\n",
    "    tf.keras.layers.Embedding(vocab_size,embeddings_dim,input_length=max_length),\n",
    "    tf.keras.layers.GlobalAveragePooling1D(),\n",
    "    tf.keras.layers.Dense(24,activation=tf.nn.relu),\n",
    "    tf.keras.layers.Dense(1,activation=tf.nn.sigmoid)\n",
    "])"
   ]
  },
  {
   "cell_type": "code",
   "execution_count": 17,
   "metadata": {},
   "outputs": [
    {
     "name": "stdout",
     "output_type": "stream",
     "text": [
      "Model: \"sequential\"\n",
      "_________________________________________________________________\n",
      "Layer (type)                 Output Shape              Param #   \n",
      "=================================================================\n",
      "embedding (Embedding)        (None, 32, 16)            160000    \n",
      "_________________________________________________________________\n",
      "global_average_pooling1d (Gl (None, 16)                0         \n",
      "_________________________________________________________________\n",
      "dense (Dense)                (None, 24)                408       \n",
      "_________________________________________________________________\n",
      "dense_1 (Dense)              (None, 1)                 25        \n",
      "=================================================================\n",
      "Total params: 160,433\n",
      "Trainable params: 160,433\n",
      "Non-trainable params: 0\n",
      "_________________________________________________________________\n"
     ]
    }
   ],
   "source": [
    "model.summary()"
   ]
  },
  {
   "cell_type": "code",
   "execution_count": 18,
   "metadata": {},
   "outputs": [],
   "source": [
    "model.compile(optimizer='adam',loss='binary_crossentropy',metrics=['accuracy'])"
   ]
  },
  {
   "cell_type": "code",
   "execution_count": 22,
   "metadata": {},
   "outputs": [
    {
     "name": "stdout",
     "output_type": "stream",
     "text": [
      "Train on 20000 samples, validate on 6709 samples\n",
      "Epoch 1/30\n",
      "20000/20000 [==============================] - 3s 151us/sample - loss: 0.0661 - accuracy: 0.9803 - val_loss: 0.6162 - val_accuracy: 0.8335\n",
      "Epoch 2/30\n",
      "20000/20000 [==============================] - 3s 136us/sample - loss: 0.0578 - accuracy: 0.9826 - val_loss: 0.6648 - val_accuracy: 0.8283\n",
      "Epoch 3/30\n",
      "20000/20000 [==============================] - 3s 138us/sample - loss: 0.0510 - accuracy: 0.9855 - val_loss: 0.7180 - val_accuracy: 0.8272\n",
      "Epoch 4/30\n",
      "20000/20000 [==============================] - 3s 134us/sample - loss: 0.0449 - accuracy: 0.9866 - val_loss: 0.7715 - val_accuracy: 0.8237\n",
      "Epoch 5/30\n",
      "20000/20000 [==============================] - 3s 134us/sample - loss: 0.0395 - accuracy: 0.9890 - val_loss: 0.8152 - val_accuracy: 0.8229\n",
      "Epoch 6/30\n",
      "20000/20000 [==============================] - 3s 141us/sample - loss: 0.0349 - accuracy: 0.9903 - val_loss: 0.8961 - val_accuracy: 0.8193\n",
      "Epoch 7/30\n",
      "20000/20000 [==============================] - 3s 152us/sample - loss: 0.0311 - accuracy: 0.9914 - val_loss: 0.9335 - val_accuracy: 0.8150\n",
      "Epoch 8/30\n",
      "20000/20000 [==============================] - 3s 160us/sample - loss: 0.0278 - accuracy: 0.9929 - val_loss: 0.9744 - val_accuracy: 0.8144\n",
      "Epoch 9/30\n",
      "20000/20000 [==============================] - 3s 161us/sample - loss: 0.0246 - accuracy: 0.9928 - val_loss: 1.0435 - val_accuracy: 0.8089\n",
      "Epoch 10/30\n",
      "20000/20000 [==============================] - 3s 166us/sample - loss: 0.0222 - accuracy: 0.9944 - val_loss: 1.1083 - val_accuracy: 0.8095\n",
      "Epoch 11/30\n",
      "20000/20000 [==============================] - 3s 130us/sample - loss: 0.0194 - accuracy: 0.9948 - val_loss: 1.1750 - val_accuracy: 0.8082\n",
      "Epoch 12/30\n",
      "20000/20000 [==============================] - 3s 135us/sample - loss: 0.0171 - accuracy: 0.9955 - val_loss: 1.2562 - val_accuracy: 0.8052\n",
      "Epoch 13/30\n",
      "20000/20000 [==============================] - 2s 121us/sample - loss: 0.0166 - accuracy: 0.9955 - val_loss: 1.2974 - val_accuracy: 0.8037\n",
      "Epoch 14/30\n",
      "20000/20000 [==============================] - 3s 128us/sample - loss: 0.0141 - accuracy: 0.9959 - val_loss: 1.3863 - val_accuracy: 0.8062\n",
      "Epoch 15/30\n",
      "20000/20000 [==============================] - 2s 120us/sample - loss: 0.0128 - accuracy: 0.9969 - val_loss: 1.4515 - val_accuracy: 0.8053\n",
      "Epoch 16/30\n",
      "20000/20000 [==============================] - 3s 127us/sample - loss: 0.0120 - accuracy: 0.9969 - val_loss: 1.4846 - val_accuracy: 0.8041\n",
      "Epoch 17/30\n",
      "20000/20000 [==============================] - 3s 135us/sample - loss: 0.0102 - accuracy: 0.9973 - val_loss: 1.5806 - val_accuracy: 0.8028\n",
      "Epoch 18/30\n",
      "20000/20000 [==============================] - 2s 120us/sample - loss: 0.0090 - accuracy: 0.9979 - val_loss: 1.5963 - val_accuracy: 0.8024\n",
      "Epoch 19/30\n",
      "20000/20000 [==============================] - 3s 131us/sample - loss: 0.0094 - accuracy: 0.9970 - val_loss: 1.6708 - val_accuracy: 0.7995\n",
      "Epoch 20/30\n",
      "20000/20000 [==============================] - 3s 130us/sample - loss: 0.0085 - accuracy: 0.9974 - val_loss: 1.7219 - val_accuracy: 0.7995\n",
      "Epoch 21/30\n",
      "20000/20000 [==============================] - 2s 123us/sample - loss: 0.0077 - accuracy: 0.9977 - val_loss: 1.8323 - val_accuracy: 0.8027\n",
      "Epoch 22/30\n",
      "20000/20000 [==============================] - 3s 156us/sample - loss: 0.0063 - accuracy: 0.9983 - val_loss: 1.8741 - val_accuracy: 0.8010\n",
      "Epoch 23/30\n",
      "20000/20000 [==============================] - 2s 122us/sample - loss: 0.0058 - accuracy: 0.9985 - val_loss: 1.9649 - val_accuracy: 0.8015\n",
      "Epoch 24/30\n",
      "20000/20000 [==============================] - 3s 125us/sample - loss: 0.0061 - accuracy: 0.9982 - val_loss: 1.9951 - val_accuracy: 0.8012\n",
      "Epoch 25/30\n",
      "20000/20000 [==============================] - 2s 125us/sample - loss: 0.0046 - accuracy: 0.9989 - val_loss: 2.0507 - val_accuracy: 0.8022\n",
      "Epoch 26/30\n",
      "20000/20000 [==============================] - 2s 116us/sample - loss: 0.0067 - accuracy: 0.9978 - val_loss: 2.0777 - val_accuracy: 0.7980\n",
      "Epoch 27/30\n",
      "20000/20000 [==============================] - 3s 126us/sample - loss: 0.0046 - accuracy: 0.9985 - val_loss: 2.1331 - val_accuracy: 0.7988\n",
      "Epoch 28/30\n",
      "20000/20000 [==============================] - 2s 118us/sample - loss: 0.0046 - accuracy: 0.9983 - val_loss: 2.2189 - val_accuracy: 0.8016\n",
      "Epoch 29/30\n",
      "20000/20000 [==============================] - 2s 114us/sample - loss: 0.0048 - accuracy: 0.9983 - val_loss: 2.2186 - val_accuracy: 0.7965\n",
      "Epoch 30/30\n",
      "20000/20000 [==============================] - 3s 128us/sample - loss: 0.0042 - accuracy: 0.9985 - val_loss: 2.3032 - val_accuracy: 0.8006\n"
     ]
    }
   ],
   "source": [
    "z=model.fit(train_padded,train_labels,validation_data=(test_padded,test_labels),epochs=30)"
   ]
  },
  {
   "cell_type": "code",
   "execution_count": 23,
   "metadata": {},
   "outputs": [
    {
     "data": {
      "text/plain": [
       "<matplotlib.legend.Legend at 0x13c795f60>"
      ]
     },
     "execution_count": 23,
     "metadata": {},
     "output_type": "execute_result"
    },
    {
     "data": {
      "image/png": "[encoded data removed]",
      "text/plain": [
       "<Figure size 432x288 with 1 Axes>"
      ]
     },
     "metadata": {
      "needs_background": "light"
     },
     "output_type": "display_data"
    }
   ],
   "source": [
    "plt.plot(z.history['accuracy'],'r',label='Train_Accuracy')\n",
    "plt.plot(z.history['val_accuracy'],'b',label='Test_Accuracy')\n",
    "plt.xlabel('epochs')\n",
    "plt.ylabel('accuracy')\n",
    "plt.legend()"
   ]
  },
  {
   "cell_type": "code",
   "execution_count": null,
   "metadata": {},
   "outputs": [],
   "source": []
  }
 ],
 "metadata": {
  "kernelspec": {
   "display_name": "Python 3",
   "language": "python",
   "name": "python3"
  },
  "language_info": {
   "codemirror_mode": {
    "name": "ipython",
    "version": 3
   },
   "file_extension": ".py",
   "mimetype": "text/x-python",
   "name": "python",
   "nbconvert_exporter": "python",
   "pygments_lexer": "ipython3",
   "version": "3.6.9"
  }
 },
 "nbformat": 4,
 "nbformat_minor": 2
}
