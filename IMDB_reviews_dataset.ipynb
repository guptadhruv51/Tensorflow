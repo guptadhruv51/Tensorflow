{
 "cells": [
  {
   "cell_type": "code",
   "execution_count": 42,
   "metadata": {},
   "outputs": [
    {
     "name": "stdout",
     "output_type": "stream",
     "text": [
      "2.0.0\n"
     ]
    }
   ],
   "source": [
    "import tensorflow as tf\n",
    "import tensorflow_datasets as tfds\n",
    "import numpy as np\n",
    "from tensorflow.keras.preprocessing.text import Tokenizer\n",
    "from tensorflow.keras.preprocessing.sequence import pad_sequences\n",
    "print(tf.__version__)\n",
    "import matplotlib.pyplot as plt"
   ]
  },
  {
   "cell_type": "code",
   "execution_count": 25,
   "metadata": {},
   "outputs": [],
   "source": [
    "imdb,info=tfds.load(\"imdb_reviews\",with_info=True,as_supervised=True)"
   ]
  },
  {
   "cell_type": "code",
   "execution_count": null,
   "metadata": {},
   "outputs": [],
   "source": []
  },
  {
   "cell_type": "code",
   "execution_count": 26,
   "metadata": {},
   "outputs": [],
   "source": [
    "train,test=imdb['train'],imdb['test']"
   ]
  },
  {
   "cell_type": "code",
   "execution_count": 27,
   "metadata": {},
   "outputs": [],
   "source": [
    "training_sentences=[]\n",
    "train_labels=[]\n",
    "test_sentences=[]\n",
    "test_labels=[]"
   ]
  },
  {
   "cell_type": "code",
   "execution_count": 28,
   "metadata": {},
   "outputs": [
    {
     "name": "stdout",
     "output_type": "stream",
     "text": [
      "25000 25000\n",
      "25000 25000\n"
     ]
    }
   ],
   "source": [
    "for s,l in train:\n",
    "    training_sentences.append(str(s.numpy()))\n",
    "    train_labels.append(l.numpy())\n",
    "for s,l in test:\n",
    "    test_sentences.append(str(s.numpy()))\n",
    "    test_labels.append(l.numpy())\n",
    "print(len(training_sentences),len(train_labels))\n",
    "print(len(test_sentences),len(test_labels))"
   ]
  },
  {
   "cell_type": "code",
   "execution_count": 29,
   "metadata": {},
   "outputs": [],
   "source": [
    "train_labels=np.asarray(train_labels)\n",
    "test_labels=np.asarray(test_labels)"
   ]
  },
  {
   "cell_type": "code",
   "execution_count": 30,
   "metadata": {},
   "outputs": [],
   "source": [
    "vocab_size=10000\n",
    "max_length=120\n",
    "embedding_dim=16\n",
    "oov_token='<OOV>'\n",
    "trunc_type='post'\n",
    "tokenizer=Tokenizer(num_words=vocab_size,oov_token=oov_token)\n",
    "tokenizer.fit_on_texts(training_sentences)\n",
    "word_index=tokenizer.word_index\n",
    "train_sequences=tokenizer.texts_to_sequences(training_sentences)\n",
    "train_padded=pad_sequences(train_sequences,maxlen=max_length,truncating=trunc_type)\n",
    "test_sequences=tokenizer.texts_to_sequences(test_sentences)\n",
    "test_padded=pad_sequences(test_sequences,maxlen=max_length,truncating=trunc_type)"
   ]
  },
  {
   "cell_type": "code",
   "execution_count": 31,
   "metadata": {},
   "outputs": [],
   "source": [
    "model=tf.keras.Sequential([\n",
    "    tf.keras.layers.Embedding(vocab_size,embedding_dim,input_length=max_length),\n",
    "    tf.keras.layers.Flatten(),\n",
    "    tf.keras.layers.Dense(6,activation=tf.nn.relu),\n",
    "    tf.keras.layers.Dense(1,activation=tf.nn.sigmoid)\n",
    "])"
   ]
  },
  {
   "cell_type": "code",
   "execution_count": 32,
   "metadata": {},
   "outputs": [
    {
     "name": "stdout",
     "output_type": "stream",
     "text": [
      "Model: \"sequential_2\"\n",
      "_________________________________________________________________\n",
      "Layer (type)                 Output Shape              Param #   \n",
      "=================================================================\n",
      "embedding_2 (Embedding)      (None, 120, 16)           160000    \n",
      "_________________________________________________________________\n",
      "flatten_1 (Flatten)          (None, 1920)              0         \n",
      "_________________________________________________________________\n",
      "dense_4 (Dense)              (None, 6)                 11526     \n",
      "_________________________________________________________________\n",
      "dense_5 (Dense)              (None, 1)                 7         \n",
      "=================================================================\n",
      "Total params: 171,533\n",
      "Trainable params: 171,533\n",
      "Non-trainable params: 0\n",
      "_________________________________________________________________\n"
     ]
    }
   ],
   "source": [
    "model.summary()"
   ]
  },
  {
   "cell_type": "code",
   "execution_count": 33,
   "metadata": {},
   "outputs": [],
   "source": [
    "model.compile(optimizer='rmsprop',loss='binary_crossentropy',metrics=['accuracy'])"
   ]
  },
  {
   "cell_type": "code",
   "execution_count": 34,
   "metadata": {},
   "outputs": [
    {
     "name": "stdout",
     "output_type": "stream",
     "text": [
      "Train on 25000 samples, validate on 25000 samples\n",
      "Epoch 1/10\n",
      "25000/25000 [==============================] - 9s 369us/sample - loss: 0.5209 - accuracy: 0.7344 - val_loss: 0.3990 - val_accuracy: 0.8150\n",
      "Epoch 2/10\n",
      "25000/25000 [==============================] - 7s 267us/sample - loss: 0.3043 - accuracy: 0.8724 - val_loss: 0.3799 - val_accuracy: 0.8301\n",
      "Epoch 3/10\n",
      "25000/25000 [==============================] - 6s 233us/sample - loss: 0.2282 - accuracy: 0.9106 - val_loss: 0.4431 - val_accuracy: 0.8082\n",
      "Epoch 4/10\n",
      "25000/25000 [==============================] - 7s 275us/sample - loss: 0.1522 - accuracy: 0.9456 - val_loss: 0.4578 - val_accuracy: 0.8178\n",
      "Epoch 5/10\n",
      "25000/25000 [==============================] - 6s 222us/sample - loss: 0.0839 - accuracy: 0.9740 - val_loss: 0.5534 - val_accuracy: 0.8020\n",
      "Epoch 6/10\n",
      "25000/25000 [==============================] - 6s 231us/sample - loss: 0.0380 - accuracy: 0.9901 - val_loss: 0.6790 - val_accuracy: 0.7895\n",
      "Epoch 7/10\n",
      "25000/25000 [==============================] - 6s 230us/sample - loss: 0.0147 - accuracy: 0.9967 - val_loss: 0.8230 - val_accuracy: 0.7873\n",
      "Epoch 8/10\n",
      "25000/25000 [==============================] - 6s 229us/sample - loss: 0.0050 - accuracy: 0.9991 - val_loss: 0.9800 - val_accuracy: 0.7834\n",
      "Epoch 9/10\n",
      "25000/25000 [==============================] - 5s 213us/sample - loss: 0.0015 - accuracy: 0.9998 - val_loss: 1.1585 - val_accuracy: 0.7824\n",
      "Epoch 10/10\n",
      "25000/25000 [==============================] - 6s 245us/sample - loss: 5.1811e-04 - accuracy: 0.9999 - val_loss: 1.3531 - val_accuracy: 0.7794\n"
     ]
    }
   ],
   "source": [
    "z1=model.fit(train_padded,train_labels,epochs=10,validation_data=(test_padded,test_labels))"
   ]
  },
  {
   "cell_type": "code",
   "execution_count": 35,
   "metadata": {},
   "outputs": [],
   "source": [
    "model=tf.keras.Sequential([\n",
    "    tf.keras.layers.Embedding(vocab_size,embedding_dim,input_length=max_length),\n",
    "    tf.keras.layers.GlobalAveragePooling1D(),\n",
    "    tf.keras.layers.Dense(6,activation=tf.nn.relu),\n",
    "    tf.keras.layers.Dense(1,activation=tf.nn.sigmoid)\n",
    "])"
   ]
  },
  {
   "cell_type": "code",
   "execution_count": 36,
   "metadata": {},
   "outputs": [
    {
     "name": "stdout",
     "output_type": "stream",
     "text": [
      "Model: \"sequential_3\"\n",
      "_________________________________________________________________\n",
      "Layer (type)                 Output Shape              Param #   \n",
      "=================================================================\n",
      "embedding_3 (Embedding)      (None, 120, 16)           160000    \n",
      "_________________________________________________________________\n",
      "global_average_pooling1d_1 ( (None, 16)                0         \n",
      "_________________________________________________________________\n",
      "dense_6 (Dense)              (None, 6)                 102       \n",
      "_________________________________________________________________\n",
      "dense_7 (Dense)              (None, 1)                 7         \n",
      "=================================================================\n",
      "Total params: 160,109\n",
      "Trainable params: 160,109\n",
      "Non-trainable params: 0\n",
      "_________________________________________________________________\n"
     ]
    }
   ],
   "source": [
    "model.summary()"
   ]
  },
  {
   "cell_type": "code",
   "execution_count": 37,
   "metadata": {},
   "outputs": [],
   "source": [
    "model.compile(optimizer='rmsprop',loss='binary_crossentropy',metrics=['accuracy'])"
   ]
  },
  {
   "cell_type": "code",
   "execution_count": 38,
   "metadata": {},
   "outputs": [
    {
     "name": "stdout",
     "output_type": "stream",
     "text": [
      "Train on 25000 samples, validate on 25000 samples\n",
      "Epoch 1/10\n",
      "25000/25000 [==============================] - 8s 319us/sample - loss: 0.5835 - accuracy: 0.7504 - val_loss: 0.4571 - val_accuracy: 0.8074\n",
      "Epoch 2/10\n",
      "25000/25000 [==============================] - 5s 213us/sample - loss: 0.3750 - accuracy: 0.8432 - val_loss: 0.3864 - val_accuracy: 0.8262\n",
      "Epoch 3/10\n",
      "25000/25000 [==============================] - 7s 261us/sample - loss: 0.3145 - accuracy: 0.8675 - val_loss: 0.3702 - val_accuracy: 0.8362\n",
      "Epoch 4/10\n",
      "25000/25000 [==============================] - 7s 272us/sample - loss: 0.2871 - accuracy: 0.8795 - val_loss: 0.3679 - val_accuracy: 0.8380\n",
      "Epoch 5/10\n",
      "25000/25000 [==============================] - 7s 265us/sample - loss: 0.2705 - accuracy: 0.8883 - val_loss: 0.3880 - val_accuracy: 0.8298\n",
      "Epoch 6/10\n",
      "25000/25000 [==============================] - 7s 273us/sample - loss: 0.2582 - accuracy: 0.8948 - val_loss: 0.3830 - val_accuracy: 0.8350\n",
      "Epoch 7/10\n",
      "25000/25000 [==============================] - 7s 289us/sample - loss: 0.2493 - accuracy: 0.8993 - val_loss: 0.3912 - val_accuracy: 0.8319\n",
      "Epoch 8/10\n",
      "25000/25000 [==============================] - 7s 274us/sample - loss: 0.2426 - accuracy: 0.9034 - val_loss: 0.3993 - val_accuracy: 0.8300\n",
      "Epoch 9/10\n",
      "25000/25000 [==============================] - 7s 271us/sample - loss: 0.2361 - accuracy: 0.9064 - val_loss: 0.4035 - val_accuracy: 0.8282\n",
      "Epoch 10/10\n",
      "25000/25000 [==============================] - 7s 283us/sample - loss: 0.2316 - accuracy: 0.9084 - val_loss: 0.4072 - val_accuracy: 0.8288\n"
     ]
    }
   ],
   "source": [
    "z2=model.fit(train_padded,train_labels,epochs=10,validation_data=(test_padded,test_labels))"
   ]
  },
  {
   "cell_type": "code",
   "execution_count": 51,
   "metadata": {},
   "outputs": [
    {
     "data": {
      "text/plain": [
       "Text(0.5, 1.0, 'Using Flatten')"
      ]
     },
     "execution_count": 51,
     "metadata": {},
     "output_type": "execute_result"
    },
    {
     "data": {
      "image/png": "[encoded data removed]",
      "text/plain": [
       "<Figure size 432x288 with 1 Axes>"
      ]
     },
     "metadata": {
      "needs_background": "light"
     },
     "output_type": "display_data"
    }
   ],
   "source": [
    "plt.plot(z1.history['accuracy'],'r',label='train_accuracy')\n",
    "plt.plot(z1.history['val_accuracy'],label='test_accuracy')\n",
    "plt.legend()\n",
    "plt.title(\"Using Flatten\")"
   ]
  },
  {
   "cell_type": "code",
   "execution_count": 52,
   "metadata": {},
   "outputs": [
    {
     "data": {
      "text/plain": [
       "Text(0.5, 1.0, 'Using Global Average')"
      ]
     },
     "execution_count": 52,
     "metadata": {},
     "output_type": "execute_result"
    },
    {
     "data": {
      "image/png": "[encoded data removed]",
      "text/plain": [
       "<Figure size 432x288 with 1 Axes>"
      ]
     },
     "metadata": {
      "needs_background": "light"
     },
     "output_type": "display_data"
    }
   ],
   "source": [
    "plt.plot(z2.history['accuracy'],'r',label='train_accuracy')\n",
    "plt.plot(z2.history['val_accuracy'],label='test_accuracy')\n",
    "plt.legend()\n",
    "plt.title(\"Using Global Average\")"
   ]
  },
  {
   "cell_type": "code",
   "execution_count": 58,
   "metadata": {},
   "outputs": [
    {
     "name": "stdout",
     "output_type": "stream",
     "text": [
      "(10000, 16)\n"
     ]
    }
   ],
   "source": [
    "e=model.layers[0]\n",
    "weights=e.get_weights()[0]\n",
    "print(weights.shape) #shape (vocab_size,embeddings)"
   ]
  },
  {
   "cell_type": "code",
   "execution_count": 62,
   "metadata": {},
   "outputs": [],
   "source": [
    "reversed_word_index=dict([(value,key) for (key,value) in word_index.items()])"
   ]
  },
  {
   "cell_type": "code",
   "execution_count": 64,
   "metadata": {},
   "outputs": [],
   "source": [
    "import io"
   ]
  },
  {
   "cell_type": "code",
   "execution_count": 67,
   "metadata": {},
   "outputs": [],
   "source": [
    "out_v=io.open('vecs.tsv',mode='w',encoding='utf-8')\n",
    "out_m=io.open('meta.tsv',mode='w',encoding='utf-8')\n",
    "for i in range(1,vocab_size):\n",
    "    word=reversed_word_index[i]\n",
    "    embeddings=weights[i]\n",
    "    out_v.write('/t'.join([str(x) for x in embeddings])+'/n')\n",
    "    out_m.write(word+'\\n')\n",
    "out_v.close()\n",
    "out_m.close()"
   ]
  },
  {
   "cell_type": "code",
   "execution_count": null,
   "metadata": {},
   "outputs": [],
   "source": []
  }
 ],
 "metadata": {
  "kernelspec": {
   "display_name": "Python 3",
   "language": "python",
   "name": "python3"
  },
  "language_info": {
   "codemirror_mode": {
    "name": "ipython",
    "version": 3
   },
   "file_extension": ".py",
   "mimetype": "text/x-python",
   "name": "python",
   "nbconvert_exporter": "python",
   "pygments_lexer": "ipython3",
   "version": "3.6.9"
  }
 },
 "nbformat": 4,
 "nbformat_minor": 2
}
